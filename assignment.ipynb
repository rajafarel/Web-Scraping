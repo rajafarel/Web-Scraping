{
 "cells": [
  {
   "cell_type": "code",
   "execution_count": null,
   "metadata": {},
   "outputs": [],
   "source": [
    "from bs4 import BeautifulSoup\n",
    "import requests\n",
    "import re\n",
    "import pandas as pd"
   ]
  },
  {
   "cell_type": "code",
   "execution_count": null,
   "metadata": {},
   "outputs": [],
   "source": [
    "url = 'https://www.imdb.com/title/tt2442560/episodes?ref_=tt_eps'\n",
    "url2 = 'https://www.primevideo.com/region/fe/detail/0KRGHGZCHKS920ZQGY5LBRF7MA/ref=atv_dp_season_select_s1'\n",
    "headers = {'User-Agent': 'Mozilla/5.0 (Macintosh; Intel Mac OS X 10_11_5) AppleWebKit/537.36 (KHTML, like Gecko) Chrome/50.0.2661.102 Safari/537.36'}\n",
    "response = requests.get(url,headers=headers)\n",
    "response2 = requests.get(url2,headers=headers)\n",
    "soup = BeautifulSoup(response.text, \"html.parser\")\n",
    "soup2 = BeautifulSoup(response2.text, \"html.parser\")\n",
    "#print(soup)\n",
    "print(soup2)"
   ]
  },
  {
   "cell_type": "code",
   "execution_count": null,
   "metadata": {},
   "outputs": [],
   "source": [
    "dates = soup.select('span.sc-1318654d-10')\n",
    "episodes = soup.select('a.sc-1318654d-8')\n",
    "rating = soup.select('span.ipc-rating-star')\n",
    "description = soup.select('div.ipc-html-content-inner-div')\n",
    "vote_count = soup.select('span.ipc-rating-star--voteCount')\n",
    "\n",
    "for i in dates:\n",
    "    print(i)\n",
    "for i in episodes:\n",
    "    print(i)\n",
    "for i in rating:\n",
    "    print(i)\n",
    "for i in description:\n",
    "    print(i)\n",
    "for i in vote_count:\n",
    "    print(i)"
   ]
  },
  {
   "cell_type": "code",
   "execution_count": null,
   "metadata": {},
   "outputs": [],
   "source": [
    "name = soup2.select('span.P1uAb6')\n",
    "age = soup2.select('span._1TNG7J')\n",
    "duration = soup2.select('[data-testid=\"episode-runtime\"]')\n",
    "summary = soup2.select('ol div.p-jAFk')\n",
    "season_episode = soup2.select('span.izvPPq')\n",
    "\n",
    "\n",
    "for i in name:\n",
    "    print(i)\n",
    "\n",
    "for i in age:\n",
    "    print(i)\n",
    "\n",
    "for i in summary:\n",
    "    print(\"\\n\",i.getText())\n",
    "\n",
    "for i in season_episode:\n",
    "    print(i)"
   ]
  },
  {
   "cell_type": "code",
   "execution_count": null,
   "metadata": {},
   "outputs": [],
   "source": [
    "date = []\n",
    "eps = []\n",
    "rate = []\n",
    "desc = []\n",
    "vote = []\n",
    "for i in dates:\n",
    "    date.append(i.getText())\n",
    "\n",
    "for i in episodes:\n",
    "    eps.append(i.getText())\n",
    "\n",
    "for i in rating:\n",
    "    rate.append(i.getText())\n",
    "\n",
    "for i in description:\n",
    "    desc.append(i.getText())\n",
    "\n",
    "for i in vote_count:\n",
    "    vote.append(i.getText())\n",
    "\n",
    "for i in date:\n",
    "    print(i)\n",
    "\n",
    "for i in eps:\n",
    "    print(i)\n",
    "\n",
    "for i in rate:\n",
    "    print(i)\n",
    "\n",
    "for i in desc:\n",
    "    print(i)\n",
    "\n",
    "for i in vote:\n",
    "    print(i)"
   ]
  },
  {
   "cell_type": "markdown",
   "metadata": {},
   "source": []
  },
  {
   "cell_type": "code",
   "execution_count": null,
   "metadata": {},
   "outputs": [],
   "source": [
    "names = []\n",
    "ages = []\n",
    "summaries = []\n",
    "season_episodes = []\n",
    "durations= []\n",
    "for i in name:\n",
    "    names.append(i.getText())\n",
    "\n",
    "for i in age:\n",
    "    ages.append(i.getText())\n",
    "\n",
    "for i in summary:\n",
    "    summaries.append(i.getText())\n",
    "\n",
    "for i in season_episode:\n",
    "    season_episodes.append(i.getText())\n",
    "\n",
    "for i in duration:\n",
    "    durations.append(i.getText())\n",
    "\n",
    "for i in names:\n",
    "    print(i)\n",
    "\n",
    "for i in ages:\n",
    "    print(i)\n",
    "\n",
    "for i in summaries:\n",
    "    print(i)\n",
    "\n",
    "for i in season_episodes:\n",
    "    print(i)\n",
    "\n",
    "for i in durations:\n",
    "    print(i)"
   ]
  },
  {
   "cell_type": "code",
   "execution_count": null,
   "metadata": {},
   "outputs": [],
   "source": [
    "season_episode = soup2.select('span.izvPPq')\n",
    "season_episodeTitle = [season_episode[t].get_text()[0:5] for t in range(0,len(season_episode))]\n",
    "\n",
    "for i in season_episodeTitle:\n",
    "    print(i)"
   ]
  },
  {
   "cell_type": "code",
   "execution_count": null,
   "metadata": {},
   "outputs": [],
   "source": [
    "\n",
    "rating = soup.select('span.ipc-rating-star')\n",
    "ratingTitle = [rating[t].get_text()[0:3] for t in range(0,len(rating),2)]\n",
    "\n",
    "for i in ratingTitle:\n",
    "    print(i)"
   ]
  },
  {
   "cell_type": "code",
   "execution_count": null,
   "metadata": {},
   "outputs": [],
   "source": [
    "listMovies = []\n",
    "for i in range (len(eps)):\n",
    "    data = {\"episodes\":eps[i],\n",
    "        \"vote_count\":vote[i],\n",
    "        \"date\": date[i],\n",
    "        \"description\":desc[i],\n",
    "        \"rating\":ratingTitle[i],\n",
    "    }\n",
    "        \n",
    "    listMovies.append(data)\n",
    "\n",
    "\n",
    "\n",
    "\n"
   ]
  },
  {
   "cell_type": "code",
   "execution_count": null,
   "metadata": {},
   "outputs": [],
   "source": [
    "listMovies2 = []\n",
    "for i in range (len(names)):\n",
    "    data2 = {\"episodes name\":names[i],\n",
    "        \"min age\":ages[i],\n",
    "        \"summary\":summaries[i],\n",
    "        \"season and episodes\":season_episodeTitle[i],\n",
    "        \"duration\":durations[i]\n",
    "        \n",
    "    }\n",
    "\n",
    "    print(data2)\n",
    "        \n",
    "    listMovies2.append(data2)\n",
    "\n",
    "print(listMovies2)\n"
   ]
  },
  {
   "cell_type": "code",
   "execution_count": null,
   "metadata": {},
   "outputs": [],
   "source": [
    "df = pd.DataFrame(listMovies, columns = ['episodes', 'vote_count', 'date', 'description','rating'])\n",
    "print (df.head())"
   ]
  },
  {
   "cell_type": "code",
   "execution_count": null,
   "metadata": {},
   "outputs": [],
   "source": [
    "df2 = pd.DataFrame(listMovies2, columns = ['episodes name', 'min age', 'summary','season and episodes','duration'])\n",
    "print (df2.head())"
   ]
  },
  {
   "cell_type": "code",
   "execution_count": null,
   "metadata": {},
   "outputs": [],
   "source": [
    "df.to_csv('imdb.csv', index=False)"
   ]
  },
  {
   "cell_type": "code",
   "execution_count": null,
   "metadata": {},
   "outputs": [],
   "source": [
    "df2.to_csv('amazon.csv', index=False)"
   ]
  },
  {
   "cell_type": "code",
   "execution_count": null,
   "metadata": {},
   "outputs": [],
   "source": [
    "pd.read_csv('imdb.csv', index_col=0)"
   ]
  },
  {
   "cell_type": "code",
   "execution_count": null,
   "metadata": {},
   "outputs": [],
   "source": [
    "pd.read_csv('amazon.csv', index_col=0)"
   ]
  }
 ],
 "metadata": {
  "kernelspec": {
   "display_name": "Python 3",
   "language": "python",
   "name": "python3"
  },
  "language_info": {
   "codemirror_mode": {
    "name": "ipython",
    "version": 3
   },
   "file_extension": ".py",
   "mimetype": "text/x-python",
   "name": "python",
   "nbconvert_exporter": "python",
   "pygments_lexer": "ipython3",
   "version": "3.10.7"
  },
  "orig_nbformat": 4
 },
 "nbformat": 4,
 "nbformat_minor": 2
}
